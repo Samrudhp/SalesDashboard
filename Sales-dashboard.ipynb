{
 "cells": [
  {
   "cell_type": "code",
   "execution_count": 1,
   "id": "437facb7-bb1d-4de3-af96-c7d7fe477449",
   "metadata": {},
   "outputs": [],
   "source": [
    "import numpy as np\n",
    "import pandas as pd\n",
    "import matplotlib.pyplot as plt\n",
    "\n",
    "import seaborn as sns\n",
    "import os"
   ]
  },
  {
   "cell_type": "code",
   "execution_count": 4,
   "id": "e57b5135-e6dc-4927-b974-176e12f605a1",
   "metadata": {},
   "outputs": [],
   "source": [
    "data = pd.read_csv(\"sales_data.csv\",encoding='latin1')\n"
   ]
  },
  {
   "cell_type": "code",
   "execution_count": 5,
   "id": "a7c48fde-bb86-4ed2-8ce8-c4d6c30c598a",
   "metadata": {},
   "outputs": [
    {
     "name": "stdout",
     "output_type": "stream",
     "text": [
      "   ORDERNUMBER  QUANTITYORDERED  PRICEEACH  ORDERLINENUMBER    SALES  \\\n",
      "0        10107               30      95.70                2  2871.00   \n",
      "1        10121               34      81.35                5  2765.90   \n",
      "2        10134               41      94.74                2  3884.34   \n",
      "3        10145               45      83.26                6  3746.70   \n",
      "4        10159               49     100.00               14  5205.27   \n",
      "\n",
      "         ORDERDATE   STATUS  QTR_ID  MONTH_ID  YEAR_ID  ...  \\\n",
      "0   2/24/2003 0:00  Shipped       1         2     2003  ...   \n",
      "1    5/7/2003 0:00  Shipped       2         5     2003  ...   \n",
      "2    7/1/2003 0:00  Shipped       3         7     2003  ...   \n",
      "3   8/25/2003 0:00  Shipped       3         8     2003  ...   \n",
      "4  10/10/2003 0:00  Shipped       4        10     2003  ...   \n",
      "\n",
      "                    ADDRESSLINE1  ADDRESSLINE2           CITY STATE  \\\n",
      "0        897 Long Airport Avenue           NaN            NYC    NY   \n",
      "1             59 rue de l'Abbaye           NaN          Reims   NaN   \n",
      "2  27 rue du Colonel Pierre Avia           NaN          Paris   NaN   \n",
      "3             78934 Hillside Dr.           NaN       Pasadena    CA   \n",
      "4                7734 Strong St.           NaN  San Francisco    CA   \n",
      "\n",
      "  POSTALCODE COUNTRY TERRITORY CONTACTLASTNAME CONTACTFIRSTNAME DEALSIZE  \n",
      "0      10022     USA       NaN              Yu             Kwai    Small  \n",
      "1      51100  France      EMEA         Henriot             Paul    Small  \n",
      "2      75508  France      EMEA        Da Cunha           Daniel   Medium  \n",
      "3      90003     USA       NaN           Young            Julie   Medium  \n",
      "4        NaN     USA       NaN           Brown            Julie   Medium  \n",
      "\n",
      "[5 rows x 25 columns]\n"
     ]
    }
   ],
   "source": [
    "#exploring data\n",
    "print(data.head())"
   ]
  },
  {
   "cell_type": "code",
   "execution_count": 6,
   "id": "699cee62-a2ca-4ed9-a649-0d9a53327227",
   "metadata": {},
   "outputs": [
    {
     "name": "stdout",
     "output_type": "stream",
     "text": [
      "<class 'pandas.core.frame.DataFrame'>\n",
      "RangeIndex: 2823 entries, 0 to 2822\n",
      "Data columns (total 25 columns):\n",
      " #   Column            Non-Null Count  Dtype  \n",
      "---  ------            --------------  -----  \n",
      " 0   ORDERNUMBER       2823 non-null   int64  \n",
      " 1   QUANTITYORDERED   2823 non-null   int64  \n",
      " 2   PRICEEACH         2823 non-null   float64\n",
      " 3   ORDERLINENUMBER   2823 non-null   int64  \n",
      " 4   SALES             2823 non-null   float64\n",
      " 5   ORDERDATE         2823 non-null   object \n",
      " 6   STATUS            2823 non-null   object \n",
      " 7   QTR_ID            2823 non-null   int64  \n",
      " 8   MONTH_ID          2823 non-null   int64  \n",
      " 9   YEAR_ID           2823 non-null   int64  \n",
      " 10  PRODUCTLINE       2823 non-null   object \n",
      " 11  MSRP              2823 non-null   int64  \n",
      " 12  PRODUCTCODE       2823 non-null   object \n",
      " 13  CUSTOMERNAME      2823 non-null   object \n",
      " 14  PHONE             2823 non-null   object \n",
      " 15  ADDRESSLINE1      2823 non-null   object \n",
      " 16  ADDRESSLINE2      302 non-null    object \n",
      " 17  CITY              2823 non-null   object \n",
      " 18  STATE             1337 non-null   object \n",
      " 19  POSTALCODE        2747 non-null   object \n",
      " 20  COUNTRY           2823 non-null   object \n",
      " 21  TERRITORY         1749 non-null   object \n",
      " 22  CONTACTLASTNAME   2823 non-null   object \n",
      " 23  CONTACTFIRSTNAME  2823 non-null   object \n",
      " 24  DEALSIZE          2823 non-null   object \n",
      "dtypes: float64(2), int64(7), object(16)\n",
      "memory usage: 551.5+ KB\n"
     ]
    }
   ],
   "source": [
    "data.info()"
   ]
  },
  {
   "cell_type": "code",
   "execution_count": 8,
   "id": "8d14dc60-1d07-4a1d-89ce-ed297afdaf67",
   "metadata": {},
   "outputs": [
    {
     "data": {
      "text/plain": [
       "ORDERNUMBER            0\n",
       "QUANTITYORDERED        0\n",
       "PRICEEACH              0\n",
       "ORDERLINENUMBER        0\n",
       "SALES                  0\n",
       "ORDERDATE              0\n",
       "STATUS                 0\n",
       "QTR_ID                 0\n",
       "MONTH_ID               0\n",
       "YEAR_ID                0\n",
       "PRODUCTLINE            0\n",
       "MSRP                   0\n",
       "PRODUCTCODE            0\n",
       "CUSTOMERNAME           0\n",
       "PHONE                  0\n",
       "ADDRESSLINE1           0\n",
       "ADDRESSLINE2        2521\n",
       "CITY                   0\n",
       "STATE               1486\n",
       "POSTALCODE            76\n",
       "COUNTRY                0\n",
       "TERRITORY           1074\n",
       "CONTACTLASTNAME        0\n",
       "CONTACTFIRSTNAME       0\n",
       "DEALSIZE               0\n",
       "dtype: int64"
      ]
     },
     "execution_count": 8,
     "metadata": {},
     "output_type": "execute_result"
    }
   ],
   "source": [
    "pd.isnull(data).sum()"
   ]
  },
  {
   "cell_type": "code",
   "execution_count": 9,
   "id": "c60df1b5-cf32-4ea2-8590-0bf66f7c786b",
   "metadata": {},
   "outputs": [
    {
     "data": {
      "text/plain": [
       "(2823, 25)"
      ]
     },
     "execution_count": 9,
     "metadata": {},
     "output_type": "execute_result"
    }
   ],
   "source": [
    "data.shape"
   ]
  },
  {
   "cell_type": "code",
   "execution_count": 20,
   "id": "862732dc-bf4a-4426-b19f-1cf1a7181bef",
   "metadata": {},
   "outputs": [],
   "source": [
    "data.dropna(subset=['STATE'],inplace = True)"
   ]
  },
  {
   "cell_type": "code",
   "execution_count": 21,
   "id": "428de8bd-19ac-4205-86b6-6067e0f269f0",
   "metadata": {},
   "outputs": [],
   "source": [
    "data.dropna(subset = ['TERRITORY'],inplace = True)"
   ]
  },
  {
   "cell_type": "code",
   "execution_count": 25,
   "id": "a77a4b1f-f18b-49a8-b0ac-8cdfa6eef6f4",
   "metadata": {},
   "outputs": [
    {
     "data": {
      "text/plain": [
       "10      Level 3\n",
       "21      Level 6\n",
       "32            0\n",
       "39            0\n",
       "40      Level 6\n",
       "         ...   \n",
       "2787          0\n",
       "2789          0\n",
       "2791    Level 6\n",
       "2796          0\n",
       "2808          0\n",
       "Name: ADDRESSLINE2, Length: 263, dtype: object"
      ]
     },
     "execution_count": 25,
     "metadata": {},
     "output_type": "execute_result"
    }
   ],
   "source": [
    "data['ADDRESSLINE2'].fillna(00,inplace = True)"
   ]
  },
  {
   "cell_type": "code",
   "execution_count": 26,
   "id": "96520901-1fc0-48ba-8ab7-e67fb99e84d5",
   "metadata": {},
   "outputs": [
    {
     "data": {
      "text/plain": [
       "10          3004\n",
       "21          2067\n",
       "32          4101\n",
       "39      106-0032\n",
       "40          2067\n",
       "          ...   \n",
       "2787    PO31 7PJ\n",
       "2789    106-0032\n",
       "2791        2067\n",
       "2796        3150\n",
       "2808    PO31 7PJ\n",
       "Name: POSTALCODE, Length: 263, dtype: object"
      ]
     },
     "execution_count": 26,
     "metadata": {},
     "output_type": "execute_result"
    }
   ],
   "source": [
    "data['POSTALCODE'].fillna(0)"
   ]
  },
  {
   "cell_type": "code",
   "execution_count": 27,
   "id": "ddd0cf6f-029b-402d-8e9a-f5ffd509b580",
   "metadata": {},
   "outputs": [
    {
     "data": {
      "text/plain": [
       "ORDERNUMBER           0\n",
       "QUANTITYORDERED       0\n",
       "PRICEEACH             0\n",
       "ORDERLINENUMBER       0\n",
       "SALES                 0\n",
       "ORDERDATE             0\n",
       "STATUS                0\n",
       "QTR_ID                0\n",
       "MONTH_ID              0\n",
       "YEAR_ID               0\n",
       "PRODUCTLINE           0\n",
       "MSRP                  0\n",
       "PRODUCTCODE           0\n",
       "CUSTOMERNAME          0\n",
       "PHONE                 0\n",
       "ADDRESSLINE1          0\n",
       "ADDRESSLINE2        116\n",
       "CITY                  0\n",
       "STATE                 0\n",
       "POSTALCODE            0\n",
       "COUNTRY               0\n",
       "TERRITORY             0\n",
       "CONTACTLASTNAME       0\n",
       "CONTACTFIRSTNAME      0\n",
       "DEALSIZE              0\n",
       "dtype: int64"
      ]
     },
     "execution_count": 27,
     "metadata": {},
     "output_type": "execute_result"
    }
   ],
   "source": [
    "pd.isnull(data).sum()"
   ]
  },
  {
   "cell_type": "code",
   "execution_count": 29,
   "id": "f0a206f8-c613-4b77-b536-6a3307237627",
   "metadata": {},
   "outputs": [
    {
     "data": {
      "text/plain": [
       "10      Level 3\n",
       "21      Level 6\n",
       "32            0\n",
       "39            0\n",
       "40      Level 6\n",
       "         ...   \n",
       "2787          0\n",
       "2789          0\n",
       "2791    Level 6\n",
       "2796          0\n",
       "2808          0\n",
       "Name: ADDRESSLINE2, Length: 263, dtype: object"
      ]
     },
     "execution_count": 29,
     "metadata": {},
     "output_type": "execute_result"
    }
   ],
   "source": [
    "data['ADDRESSLINE2'].fillna(00)"
   ]
  },
  {
   "cell_type": "code",
   "execution_count": 30,
   "id": "eebd5f2b-fbbe-4bc0-9e9a-5ff3344a5f53",
   "metadata": {},
   "outputs": [
    {
     "data": {
      "text/plain": [
       "ORDERNUMBER         0\n",
       "QUANTITYORDERED     0\n",
       "PRICEEACH           0\n",
       "ORDERLINENUMBER     0\n",
       "SALES               0\n",
       "ORDERDATE           0\n",
       "STATUS              0\n",
       "QTR_ID              0\n",
       "MONTH_ID            0\n",
       "YEAR_ID             0\n",
       "PRODUCTLINE         0\n",
       "MSRP                0\n",
       "PRODUCTCODE         0\n",
       "CUSTOMERNAME        0\n",
       "PHONE               0\n",
       "ADDRESSLINE1        0\n",
       "ADDRESSLINE2        0\n",
       "CITY                0\n",
       "STATE               0\n",
       "POSTALCODE          0\n",
       "COUNTRY             0\n",
       "TERRITORY           0\n",
       "CONTACTLASTNAME     0\n",
       "CONTACTFIRSTNAME    0\n",
       "DEALSIZE            0\n",
       "dtype: int64"
      ]
     },
     "execution_count": 30,
     "metadata": {},
     "output_type": "execute_result"
    }
   ],
   "source": [
    "pd.isnull(data).sum()"
   ]
  },
  {
   "cell_type": "code",
   "execution_count": 31,
   "id": "b539dc43-1d71-4238-a0ce-94a8a1bbc085",
   "metadata": {},
   "outputs": [
    {
     "data": {
      "text/plain": [
       "<bound method DataFrame.info of       ORDERNUMBER  QUANTITYORDERED  PRICEEACH  ORDERLINENUMBER    SALES  \\\n",
       "10          10223               37     100.00                1  3965.66   \n",
       "21          10361               20      72.55               13  1451.00   \n",
       "32          10174               34     100.00                4  8014.82   \n",
       "39          10258               32     100.00                6  7680.64   \n",
       "40          10270               21     100.00                9  4905.39   \n",
       "...           ...              ...        ...              ...      ...   \n",
       "2787        10316               34      43.70               12  1485.80   \n",
       "2789        10339               27      76.31                6  2060.37   \n",
       "2791        10361               23      95.20               12  2189.60   \n",
       "2796        10415               42      57.61                3  2419.62   \n",
       "2808        10232               24      49.69                3  1192.56   \n",
       "\n",
       "            ORDERDATE    STATUS  QTR_ID  MONTH_ID  YEAR_ID  ...  \\\n",
       "10     2/20/2004 0:00   Shipped       1         2     2004  ...   \n",
       "21    12/17/2004 0:00   Shipped       4        12     2004  ...   \n",
       "32     11/6/2003 0:00   Shipped       4        11     2003  ...   \n",
       "39     6/15/2004 0:00   Shipped       2         6     2004  ...   \n",
       "40     7/19/2004 0:00   Shipped       3         7     2004  ...   \n",
       "...               ...       ...     ...       ...      ...  ...   \n",
       "2787   11/1/2004 0:00   Shipped       4        11     2004  ...   \n",
       "2789  11/23/2004 0:00   Shipped       4        11     2004  ...   \n",
       "2791  12/17/2004 0:00   Shipped       4        12     2004  ...   \n",
       "2796    5/9/2005 0:00  Disputed       2         5     2005  ...   \n",
       "2808   3/20/2004 0:00   Shipped       1         3     2004  ...   \n",
       "\n",
       "                                 ADDRESSLINE1  ADDRESSLINE2            CITY  \\\n",
       "10                          636 St Kilda Road       Level 3       Melbourne   \n",
       "21    Monitor Money Building, 815 Pacific Hwy       Level 6       Chatswood   \n",
       "32                     31 Duncan St. West End             0  South Brisbane   \n",
       "39                             2-2-8 Roppongi             0       Minato-ku   \n",
       "40    Monitor Money Building, 815 Pacific Hwy       Level 6       Chatswood   \n",
       "...                                       ...           ...             ...   \n",
       "2787                Garden House Crowther Way             0           Cowes   \n",
       "2789                           2-2-8 Roppongi             0       Minato-ku   \n",
       "2791  Monitor Money Building, 815 Pacific Hwy       Level 6       Chatswood   \n",
       "2796                           7 Allen Street             0    Glen Waverly   \n",
       "2808                Garden House Crowther Way             0           Cowes   \n",
       "\n",
       "              STATE POSTALCODE    COUNTRY TERRITORY CONTACTLASTNAME  \\\n",
       "10         Victoria       3004  Australia      APAC        Ferguson   \n",
       "21              NSW       2067  Australia      APAC          Huxley   \n",
       "32       Queensland       4101  Australia      APAC        Calaghan   \n",
       "39            Tokyo   106-0032      Japan     Japan       Shimamura   \n",
       "40              NSW       2067  Australia      APAC          Huxley   \n",
       "...             ...        ...        ...       ...             ...   \n",
       "2787  Isle of Wight   PO31 7PJ         UK      EMEA         Bennett   \n",
       "2789          Tokyo   106-0032      Japan     Japan       Shimamura   \n",
       "2791            NSW       2067  Australia      APAC          Huxley   \n",
       "2796       Victoria       3150  Australia      APAC         Connery   \n",
       "2808  Isle of Wight   PO31 7PJ         UK      EMEA         Bennett   \n",
       "\n",
       "     CONTACTFIRSTNAME DEALSIZE  \n",
       "10              Peter   Medium  \n",
       "21             Adrian    Small  \n",
       "32               Tony    Large  \n",
       "39              Akiko    Large  \n",
       "40             Adrian   Medium  \n",
       "...               ...      ...  \n",
       "2787            Helen    Small  \n",
       "2789            Akiko    Small  \n",
       "2791           Adrian    Small  \n",
       "2796             Sean    Small  \n",
       "2808            Helen    Small  \n",
       "\n",
       "[263 rows x 25 columns]>"
      ]
     },
     "execution_count": 31,
     "metadata": {},
     "output_type": "execute_result"
    }
   ],
   "source": [
    "data.info"
   ]
  },
  {
   "cell_type": "markdown",
   "id": "352cc481-4a8f-4690-bec7-332ea56f7b7e",
   "metadata": {},
   "source": [
    "**EXPLORING DATA** "
   ]
  },
  {
   "cell_type": "code",
   "execution_count": 32,
   "id": "840029b2-4f53-4980-b3c6-9056fad827cb",
   "metadata": {},
   "outputs": [
    {
     "data": {
      "text/plain": [
       "Index(['ORDERNUMBER', 'QUANTITYORDERED', 'PRICEEACH', 'ORDERLINENUMBER',\n",
       "       'SALES', 'ORDERDATE', 'STATUS', 'QTR_ID', 'MONTH_ID', 'YEAR_ID',\n",
       "       'PRODUCTLINE', 'MSRP', 'PRODUCTCODE', 'CUSTOMERNAME', 'PHONE',\n",
       "       'ADDRESSLINE1', 'ADDRESSLINE2', 'CITY', 'STATE', 'POSTALCODE',\n",
       "       'COUNTRY', 'TERRITORY', 'CONTACTLASTNAME', 'CONTACTFIRSTNAME',\n",
       "       'DEALSIZE'],\n",
       "      dtype='object')"
      ]
     },
     "execution_count": 32,
     "metadata": {},
     "output_type": "execute_result"
    }
   ],
   "source": [
    "data.columns"
   ]
  },
  {
   "cell_type": "code",
   "execution_count": null,
   "id": "062ed3ca-35ea-4bcc-bbb7-3a8ecd27cedf",
   "metadata": {},
   "outputs": [],
   "source": []
  }
 ],
 "metadata": {
  "kernelspec": {
   "display_name": "Python 3 (ipykernel)",
   "language": "python",
   "name": "python3"
  },
  "language_info": {
   "codemirror_mode": {
    "name": "ipython",
    "version": 3
   },
   "file_extension": ".py",
   "mimetype": "text/x-python",
   "name": "python",
   "nbconvert_exporter": "python",
   "pygments_lexer": "ipython3",
   "version": "3.13.1"
  }
 },
 "nbformat": 4,
 "nbformat_minor": 5
}
